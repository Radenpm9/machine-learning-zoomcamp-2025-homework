{
 "cells": [
  {
   "cell_type": "markdown",
   "id": "c0a39941-1c80-4124-9c97-f870adf4d487",
   "metadata": {},
   "source": [
    "This file is created for submitting homework 2 of Machine Learning Zoomcamp.  \n",
    "**The goal** : to create a regression model for predicting the car fuel efficiency (column 'fuel_efficiency_mpg')."
   ]
  },
  {
   "cell_type": "code",
   "execution_count": 1,
   "id": "2a5a323d-430a-4bca-ad5d-2609ad23f946",
   "metadata": {},
   "outputs": [],
   "source": [
    "#First of all, I import all necessary modules\n",
    "import pandas as pd\n",
    "import numpy as np\n",
    "import seaborn as sns\n",
    "from matplotlib import pyplot as plt\n",
    "%matplotlib inline\n"
   ]
  },
  {
   "cell_type": "code",
   "execution_count": 2,
   "id": "173bb45f-f0e0-42de-bdb8-8072b1467de2",
   "metadata": {},
   "outputs": [
    {
     "data": {
      "text/plain": [
       "9704"
      ]
     },
     "execution_count": 2,
     "metadata": {},
     "output_type": "execute_result"
    }
   ],
   "source": [
    "#reading the dataset and assign it to a dataframe\n",
    "df = pd.read_csv('car_fuel_efficiency.csv')\n",
    "\n",
    "#checking the length of the dataframe\n",
    "len(df)"
   ]
  },
  {
   "cell_type": "code",
   "execution_count": 3,
   "id": "781395d5-c313-4db6-9c1d-6513c58885a7",
   "metadata": {
    "scrolled": true
   },
   "outputs": [
    {
     "data": {
      "text/html": [
       "<div>\n",
       "<style scoped>\n",
       "    .dataframe tbody tr th:only-of-type {\n",
       "        vertical-align: middle;\n",
       "    }\n",
       "\n",
       "    .dataframe tbody tr th {\n",
       "        vertical-align: top;\n",
       "    }\n",
       "\n",
       "    .dataframe thead th {\n",
       "        text-align: right;\n",
       "    }\n",
       "</style>\n",
       "<table border=\"1\" class=\"dataframe\">\n",
       "  <thead>\n",
       "    <tr style=\"text-align: right;\">\n",
       "      <th></th>\n",
       "      <th>engine_displacement</th>\n",
       "      <th>num_cylinders</th>\n",
       "      <th>horsepower</th>\n",
       "      <th>vehicle_weight</th>\n",
       "      <th>acceleration</th>\n",
       "      <th>model_year</th>\n",
       "      <th>origin</th>\n",
       "      <th>fuel_type</th>\n",
       "      <th>drivetrain</th>\n",
       "      <th>num_doors</th>\n",
       "      <th>fuel_efficiency_mpg</th>\n",
       "    </tr>\n",
       "  </thead>\n",
       "  <tbody>\n",
       "    <tr>\n",
       "      <th>0</th>\n",
       "      <td>170</td>\n",
       "      <td>3.0</td>\n",
       "      <td>159.0</td>\n",
       "      <td>3413.433759</td>\n",
       "      <td>17.7</td>\n",
       "      <td>2003</td>\n",
       "      <td>Europe</td>\n",
       "      <td>Gasoline</td>\n",
       "      <td>All-wheel drive</td>\n",
       "      <td>0.0</td>\n",
       "      <td>13.231729</td>\n",
       "    </tr>\n",
       "    <tr>\n",
       "      <th>1</th>\n",
       "      <td>130</td>\n",
       "      <td>5.0</td>\n",
       "      <td>97.0</td>\n",
       "      <td>3149.664934</td>\n",
       "      <td>17.8</td>\n",
       "      <td>2007</td>\n",
       "      <td>USA</td>\n",
       "      <td>Gasoline</td>\n",
       "      <td>Front-wheel drive</td>\n",
       "      <td>0.0</td>\n",
       "      <td>13.688217</td>\n",
       "    </tr>\n",
       "    <tr>\n",
       "      <th>2</th>\n",
       "      <td>170</td>\n",
       "      <td>NaN</td>\n",
       "      <td>78.0</td>\n",
       "      <td>3079.038997</td>\n",
       "      <td>15.1</td>\n",
       "      <td>2018</td>\n",
       "      <td>Europe</td>\n",
       "      <td>Gasoline</td>\n",
       "      <td>Front-wheel drive</td>\n",
       "      <td>0.0</td>\n",
       "      <td>14.246341</td>\n",
       "    </tr>\n",
       "    <tr>\n",
       "      <th>3</th>\n",
       "      <td>220</td>\n",
       "      <td>4.0</td>\n",
       "      <td>NaN</td>\n",
       "      <td>2542.392402</td>\n",
       "      <td>20.2</td>\n",
       "      <td>2009</td>\n",
       "      <td>USA</td>\n",
       "      <td>Diesel</td>\n",
       "      <td>All-wheel drive</td>\n",
       "      <td>2.0</td>\n",
       "      <td>16.912736</td>\n",
       "    </tr>\n",
       "    <tr>\n",
       "      <th>4</th>\n",
       "      <td>210</td>\n",
       "      <td>1.0</td>\n",
       "      <td>140.0</td>\n",
       "      <td>3460.870990</td>\n",
       "      <td>14.4</td>\n",
       "      <td>2009</td>\n",
       "      <td>Europe</td>\n",
       "      <td>Gasoline</td>\n",
       "      <td>All-wheel drive</td>\n",
       "      <td>2.0</td>\n",
       "      <td>12.488369</td>\n",
       "    </tr>\n",
       "  </tbody>\n",
       "</table>\n",
       "</div>"
      ],
      "text/plain": [
       "   engine_displacement  num_cylinders  horsepower  vehicle_weight  \\\n",
       "0                  170            3.0       159.0     3413.433759   \n",
       "1                  130            5.0        97.0     3149.664934   \n",
       "2                  170            NaN        78.0     3079.038997   \n",
       "3                  220            4.0         NaN     2542.392402   \n",
       "4                  210            1.0       140.0     3460.870990   \n",
       "\n",
       "   acceleration  model_year  origin fuel_type         drivetrain  num_doors  \\\n",
       "0          17.7        2003  Europe  Gasoline    All-wheel drive        0.0   \n",
       "1          17.8        2007     USA  Gasoline  Front-wheel drive        0.0   \n",
       "2          15.1        2018  Europe  Gasoline  Front-wheel drive        0.0   \n",
       "3          20.2        2009     USA    Diesel    All-wheel drive        2.0   \n",
       "4          14.4        2009  Europe  Gasoline    All-wheel drive        2.0   \n",
       "\n",
       "   fuel_efficiency_mpg  \n",
       "0            13.231729  \n",
       "1            13.688217  \n",
       "2            14.246341  \n",
       "3            16.912736  \n",
       "4            12.488369  "
      ]
     },
     "execution_count": 3,
     "metadata": {},
     "output_type": "execute_result"
    }
   ],
   "source": [
    "#seeing the first 5 rows\n",
    "df.head()"
   ]
  },
  {
   "cell_type": "code",
   "execution_count": 5,
   "id": "01647911-e7e4-4ae4-a20c-803f279d4f02",
   "metadata": {},
   "outputs": [
    {
     "data": {
      "text/html": [
       "<div>\n",
       "<style scoped>\n",
       "    .dataframe tbody tr th:only-of-type {\n",
       "        vertical-align: middle;\n",
       "    }\n",
       "\n",
       "    .dataframe tbody tr th {\n",
       "        vertical-align: top;\n",
       "    }\n",
       "\n",
       "    .dataframe thead th {\n",
       "        text-align: right;\n",
       "    }\n",
       "</style>\n",
       "<table border=\"1\" class=\"dataframe\">\n",
       "  <thead>\n",
       "    <tr style=\"text-align: right;\">\n",
       "      <th></th>\n",
       "      <th>engine_displacement</th>\n",
       "      <th>horsepower</th>\n",
       "      <th>vehicle_weight</th>\n",
       "      <th>model_year</th>\n",
       "      <th>fuel_efficiency_mpg</th>\n",
       "    </tr>\n",
       "  </thead>\n",
       "  <tbody>\n",
       "    <tr>\n",
       "      <th>0</th>\n",
       "      <td>170</td>\n",
       "      <td>159.0</td>\n",
       "      <td>3413.433759</td>\n",
       "      <td>2003</td>\n",
       "      <td>13.231729</td>\n",
       "    </tr>\n",
       "    <tr>\n",
       "      <th>1</th>\n",
       "      <td>130</td>\n",
       "      <td>97.0</td>\n",
       "      <td>3149.664934</td>\n",
       "      <td>2007</td>\n",
       "      <td>13.688217</td>\n",
       "    </tr>\n",
       "    <tr>\n",
       "      <th>2</th>\n",
       "      <td>170</td>\n",
       "      <td>78.0</td>\n",
       "      <td>3079.038997</td>\n",
       "      <td>2018</td>\n",
       "      <td>14.246341</td>\n",
       "    </tr>\n",
       "    <tr>\n",
       "      <th>3</th>\n",
       "      <td>220</td>\n",
       "      <td>NaN</td>\n",
       "      <td>2542.392402</td>\n",
       "      <td>2009</td>\n",
       "      <td>16.912736</td>\n",
       "    </tr>\n",
       "    <tr>\n",
       "      <th>4</th>\n",
       "      <td>210</td>\n",
       "      <td>140.0</td>\n",
       "      <td>3460.870990</td>\n",
       "      <td>2009</td>\n",
       "      <td>12.488369</td>\n",
       "    </tr>\n",
       "    <tr>\n",
       "      <th>...</th>\n",
       "      <td>...</td>\n",
       "      <td>...</td>\n",
       "      <td>...</td>\n",
       "      <td>...</td>\n",
       "      <td>...</td>\n",
       "    </tr>\n",
       "    <tr>\n",
       "      <th>9699</th>\n",
       "      <td>140</td>\n",
       "      <td>164.0</td>\n",
       "      <td>2981.107371</td>\n",
       "      <td>2013</td>\n",
       "      <td>15.101802</td>\n",
       "    </tr>\n",
       "    <tr>\n",
       "      <th>9700</th>\n",
       "      <td>180</td>\n",
       "      <td>154.0</td>\n",
       "      <td>2439.525729</td>\n",
       "      <td>2004</td>\n",
       "      <td>17.962326</td>\n",
       "    </tr>\n",
       "    <tr>\n",
       "      <th>9701</th>\n",
       "      <td>220</td>\n",
       "      <td>138.0</td>\n",
       "      <td>2583.471318</td>\n",
       "      <td>2008</td>\n",
       "      <td>17.186587</td>\n",
       "    </tr>\n",
       "    <tr>\n",
       "      <th>9702</th>\n",
       "      <td>230</td>\n",
       "      <td>177.0</td>\n",
       "      <td>2905.527390</td>\n",
       "      <td>2011</td>\n",
       "      <td>15.331551</td>\n",
       "    </tr>\n",
       "    <tr>\n",
       "      <th>9703</th>\n",
       "      <td>270</td>\n",
       "      <td>140.0</td>\n",
       "      <td>2908.043477</td>\n",
       "      <td>2005</td>\n",
       "      <td>14.884467</td>\n",
       "    </tr>\n",
       "  </tbody>\n",
       "</table>\n",
       "<p>9704 rows × 5 columns</p>\n",
       "</div>"
      ],
      "text/plain": [
       "      engine_displacement  horsepower  vehicle_weight  model_year  \\\n",
       "0                     170       159.0     3413.433759        2003   \n",
       "1                     130        97.0     3149.664934        2007   \n",
       "2                     170        78.0     3079.038997        2018   \n",
       "3                     220         NaN     2542.392402        2009   \n",
       "4                     210       140.0     3460.870990        2009   \n",
       "...                   ...         ...             ...         ...   \n",
       "9699                  140       164.0     2981.107371        2013   \n",
       "9700                  180       154.0     2439.525729        2004   \n",
       "9701                  220       138.0     2583.471318        2008   \n",
       "9702                  230       177.0     2905.527390        2011   \n",
       "9703                  270       140.0     2908.043477        2005   \n",
       "\n",
       "      fuel_efficiency_mpg  \n",
       "0               13.231729  \n",
       "1               13.688217  \n",
       "2               14.246341  \n",
       "3               16.912736  \n",
       "4               12.488369  \n",
       "...                   ...  \n",
       "9699            15.101802  \n",
       "9700            17.962326  \n",
       "9701            17.186587  \n",
       "9702            15.331551  \n",
       "9703            14.884467  \n",
       "\n",
       "[9704 rows x 5 columns]"
      ]
     },
     "execution_count": 5,
     "metadata": {},
     "output_type": "execute_result"
    }
   ],
   "source": [
    "#Preparing the dataset that only using 'engine_displacement', 'horsepower', 'vehicle_weight', 'model_year', and 'fuel_efficiency_mpg'\n",
    "df = df[['engine_displacement', 'horsepower', 'vehicle_weight', 'model_year', 'fuel_efficiency_mpg']]\n",
    "\n",
    "#checking the new simplified dataset\n",
    "df"
   ]
  },
  {
   "cell_type": "markdown",
   "id": "0652e14c-e689-4161-8de1-98d355c98ef5",
   "metadata": {},
   "source": [
    "# Exploratory Data Analysis"
   ]
  },
  {
   "cell_type": "code",
   "execution_count": 6,
   "id": "a29f0497-6d70-4cc9-8181-296cfe9a041b",
   "metadata": {},
   "outputs": [
    {
     "data": {
      "text/html": [
       "<div>\n",
       "<style scoped>\n",
       "    .dataframe tbody tr th:only-of-type {\n",
       "        vertical-align: middle;\n",
       "    }\n",
       "\n",
       "    .dataframe tbody tr th {\n",
       "        vertical-align: top;\n",
       "    }\n",
       "\n",
       "    .dataframe thead th {\n",
       "        text-align: right;\n",
       "    }\n",
       "</style>\n",
       "<table border=\"1\" class=\"dataframe\">\n",
       "  <thead>\n",
       "    <tr style=\"text-align: right;\">\n",
       "      <th></th>\n",
       "      <th>engine_displacement</th>\n",
       "      <th>horsepower</th>\n",
       "      <th>vehicle_weight</th>\n",
       "      <th>model_year</th>\n",
       "      <th>fuel_efficiency_mpg</th>\n",
       "    </tr>\n",
       "  </thead>\n",
       "  <tbody>\n",
       "    <tr>\n",
       "      <th>count</th>\n",
       "      <td>9704.000000</td>\n",
       "      <td>8996.000000</td>\n",
       "      <td>9704.000000</td>\n",
       "      <td>9704.000000</td>\n",
       "      <td>9704.000000</td>\n",
       "    </tr>\n",
       "    <tr>\n",
       "      <th>mean</th>\n",
       "      <td>199.708368</td>\n",
       "      <td>149.657292</td>\n",
       "      <td>3001.280993</td>\n",
       "      <td>2011.484027</td>\n",
       "      <td>14.985243</td>\n",
       "    </tr>\n",
       "    <tr>\n",
       "      <th>std</th>\n",
       "      <td>49.455319</td>\n",
       "      <td>29.879555</td>\n",
       "      <td>497.894860</td>\n",
       "      <td>6.659808</td>\n",
       "      <td>2.556468</td>\n",
       "    </tr>\n",
       "    <tr>\n",
       "      <th>min</th>\n",
       "      <td>10.000000</td>\n",
       "      <td>37.000000</td>\n",
       "      <td>952.681761</td>\n",
       "      <td>2000.000000</td>\n",
       "      <td>6.200971</td>\n",
       "    </tr>\n",
       "    <tr>\n",
       "      <th>25%</th>\n",
       "      <td>170.000000</td>\n",
       "      <td>130.000000</td>\n",
       "      <td>2666.248985</td>\n",
       "      <td>2006.000000</td>\n",
       "      <td>13.267459</td>\n",
       "    </tr>\n",
       "    <tr>\n",
       "      <th>50%</th>\n",
       "      <td>200.000000</td>\n",
       "      <td>149.000000</td>\n",
       "      <td>2993.226296</td>\n",
       "      <td>2012.000000</td>\n",
       "      <td>15.006037</td>\n",
       "    </tr>\n",
       "    <tr>\n",
       "      <th>75%</th>\n",
       "      <td>230.000000</td>\n",
       "      <td>170.000000</td>\n",
       "      <td>3334.957039</td>\n",
       "      <td>2017.000000</td>\n",
       "      <td>16.707965</td>\n",
       "    </tr>\n",
       "    <tr>\n",
       "      <th>max</th>\n",
       "      <td>380.000000</td>\n",
       "      <td>271.000000</td>\n",
       "      <td>4739.077089</td>\n",
       "      <td>2023.000000</td>\n",
       "      <td>25.967222</td>\n",
       "    </tr>\n",
       "  </tbody>\n",
       "</table>\n",
       "</div>"
      ],
      "text/plain": [
       "       engine_displacement   horsepower  vehicle_weight   model_year  \\\n",
       "count          9704.000000  8996.000000     9704.000000  9704.000000   \n",
       "mean            199.708368   149.657292     3001.280993  2011.484027   \n",
       "std              49.455319    29.879555      497.894860     6.659808   \n",
       "min              10.000000    37.000000      952.681761  2000.000000   \n",
       "25%             170.000000   130.000000     2666.248985  2006.000000   \n",
       "50%             200.000000   149.000000     2993.226296  2012.000000   \n",
       "75%             230.000000   170.000000     3334.957039  2017.000000   \n",
       "max             380.000000   271.000000     4739.077089  2023.000000   \n",
       "\n",
       "       fuel_efficiency_mpg  \n",
       "count          9704.000000  \n",
       "mean             14.985243  \n",
       "std               2.556468  \n",
       "min               6.200971  \n",
       "25%              13.267459  \n",
       "50%              15.006037  \n",
       "75%              16.707965  \n",
       "max              25.967222  "
      ]
     },
     "execution_count": 6,
     "metadata": {},
     "output_type": "execute_result"
    }
   ],
   "source": [
    "#checking the summary of dataset\n",
    "df.describe()"
   ]
  },
  {
   "cell_type": "code",
   "execution_count": 7,
   "id": "411e55df-7c0b-4c1c-b644-7e0e52bab8fc",
   "metadata": {},
   "outputs": [
    {
     "data": {
      "image/png": "[encoded data removed]",
      "text/plain": [
       "<Figure size 640x480 with 1 Axes>"
      ]
     },
     "metadata": {},
     "output_type": "display_data"
    }
   ],
   "source": [
    "#checking the distribution of 'fuel_efficiency_mpg'\n",
    "plt.figure()\n",
    "sns.histplot(df['fuel_efficiency_mpg'])\n",
    "plt.ylabel('Frequency')\n",
    "plt.xlabel('fuel_efficiency_mpg')\n",
    "plt.title('Distribution of Fuel Efficiency')\n",
    "plt.show()\n",
    "           "
   ]
  },
  {
   "cell_type": "markdown",
   "id": "7f24d1f3-0ae5-4186-afaa-b717d2304fdc",
   "metadata": {},
   "source": [
    "From the graph above we can see that __the Distribution of Fuel Efficiency doesn't have a long tail.__"
   ]
  },
  {
   "cell_type": "code",
   "execution_count": 8,
   "id": "f9910fcb-218f-424b-9e00-8eec160d75e7",
   "metadata": {},
   "outputs": [
    {
     "data": {
      "text/plain": [
       "engine_displacement      0\n",
       "horsepower             708\n",
       "vehicle_weight           0\n",
       "model_year               0\n",
       "fuel_efficiency_mpg      0\n",
       "dtype: int64"
      ]
     },
     "execution_count": 8,
     "metadata": {},
     "output_type": "execute_result"
    }
   ],
   "source": [
    "#checking any missing value in the dataset\n",
    "df.isnull().sum()"
   ]
  },
  {
   "cell_type": "markdown",
   "id": "7370066c-a4d5-4c76-b2e7-0d373f5f01c1",
   "metadata": {},
   "source": [
    "### Question 1\n",
    "There's one column with missing values. What is it?  \n",
    "__Answer: horsepower__ (according to the above)"
   ]
  },
  {
   "cell_type": "markdown",
   "id": "f867c0f5-f5e9-438d-947e-c05e221b0496",
   "metadata": {},
   "source": [
    "### Question 2\n",
    "What's the median (50% percentile) for variable 'horsepower'?  \n",
    "**Answer: 149 (according to the result of this: df.describe())**"
   ]
  },
  {
   "cell_type": "markdown",
   "id": "32b9d9e0-ff8a-472f-a49d-13d9fd82971e",
   "metadata": {},
   "source": [
    "# Prepare and split the dataset "
   ]
  },
  {
   "cell_type": "code",
   "execution_count": 9,
   "id": "b5fc9c6c-a85d-41f6-8c5c-9762c5c32f58",
   "metadata": {},
   "outputs": [],
   "source": [
    "# Shuffle the simplified (filtered) dataset using seed 42.\n",
    "np.random.seed(42)\n",
    "n = len(df)\n",
    "idx = np.arange(n)\n",
    "np.random.shuffle(idx)\n",
    "df_shuffled = df.iloc[idx]\n",
    "\n",
    "# Split data in train/val/test sets, with 60%/20%/20% distribution.\n",
    "n_val = int(0.2 * n)\n",
    "n_test = int(0.2 * n)\n",
    "n_train = n - (n_val + n_test)\n",
    "\n",
    "df_train = df_shuffled.iloc[:n_train].copy()\n",
    "df_val = df_shuffled.iloc[n_train:n_train+n_val].copy()\n",
    "df_test = df_shuffled.iloc[n_train+n_val:].copy()"
   ]
  },
  {
   "cell_type": "code",
   "execution_count": 10,
   "id": "09ce3efe-87c5-4f91-8cc2-3da4b868d48c",
   "metadata": {},
   "outputs": [],
   "source": [
    "y_train_original = df_train.fuel_efficiency_mpg.values\n",
    "y_val_original = df_val.fuel_efficiency_mpg.values\n",
    "y_test = df_test.fuel_efficiency_mpg.values\n",
    "\n",
    "y_train = np.log1p(df_train.fuel_efficiency_mpg.values)\n",
    "y_val = np.log1p(df_val.fuel_efficiency_mpg.values)\n",
    "y_test = np.log1p(df_test.fuel_efficiency_mpg.values)\n",
    "\n",
    "# deleting the target y to prevent confusion/mistake in the future by refering back to these values\n",
    "del df_train['fuel_efficiency_mpg']\n",
    "del df_val['fuel_efficiency_mpg']\n",
    "del df_test['fuel_efficiency_mpg']"
   ]
  },
  {
   "cell_type": "markdown",
   "id": "59afbd6f-aea1-4951-92e2-2f40dea1bbae",
   "metadata": {},
   "source": [
    "### Question 3\n",
    "\n",
    "    * We need to deal with missing values for the column from Q1.\n",
    "    * We have two options: fill it with 0 or with the mean of this variable.\n",
    "    * Try both options. For each, train a linear regression model without regularization using the code from the lessons.\n",
    "    * For computing the mean, use the training only!\n",
    "    * Use the validation dataset to evaluate the models and compare the RMSE of each option.\n",
    "    * Round the RMSE scores to 2 decimal digits using round(score, 2)\n",
    "    * Which option gives better RMSE?\n"
   ]
  },
  {
   "cell_type": "code",
   "execution_count": 11,
   "id": "7e77438a-9454-44f9-9276-5c8a1e6ac451",
   "metadata": {},
   "outputs": [
    {
     "data": {
      "text/plain": [
       "engine_displacement      0\n",
       "horsepower             429\n",
       "vehicle_weight           0\n",
       "model_year               0\n",
       "dtype: int64"
      ]
     },
     "execution_count": 11,
     "metadata": {},
     "output_type": "execute_result"
    }
   ],
   "source": [
    "#checking the missing value of df_train\n",
    "df_train.isnull().sum()"
   ]
  },
  {
   "cell_type": "code",
   "execution_count": 12,
   "id": "28e36d28-8254-4a88-a49a-f67fe231641b",
   "metadata": {},
   "outputs": [
    {
     "data": {
      "text/plain": [
       "engine_displacement    0\n",
       "horsepower             0\n",
       "vehicle_weight         0\n",
       "model_year             0\n",
       "dtype: int64"
      ]
     },
     "execution_count": 12,
     "metadata": {},
     "output_type": "execute_result"
    }
   ],
   "source": [
    "#filling the missing values with 0\n",
    "df_train_0 = df_train.fillna(0)\n",
    "\n",
    "#checking the missing values of df_train_0\n",
    "df_train_0.isnull().sum()"
   ]
  },
  {
   "cell_type": "code",
   "execution_count": 13,
   "id": "e1e06b20-d0a7-4072-ba72-45a6e3b6f482",
   "metadata": {},
   "outputs": [],
   "source": [
    "#computing the mean of horsepower in df_train with missing values and assign it to variable\n",
    "mean_of_hp = df_train['horsepower'].mean()\n",
    "\n",
    "#filling the missing values with mean\n",
    "df_train_mean = df_train.fillna(mean_of_hp)\n"
   ]
  },
  {
   "cell_type": "markdown",
   "id": "b9444b55-08ef-410f-8b33-6321f19559f7",
   "metadata": {},
   "source": [
    "### Linear Regression"
   ]
  },
  {
   "cell_type": "code",
   "execution_count": 14,
   "id": "9d155ccc-faf2-44ad-9380-9ac70d28cea8",
   "metadata": {},
   "outputs": [],
   "source": [
    "# Defining Linear Regression\n",
    "def train_linear_regression(X, y):\n",
    "    ones = np.ones(X.shape[0])\n",
    "    X = np.column_stack([ones, X])\n",
    "\n",
    "    XTX = X.T.dot(X)\n",
    "    XTX_inv = np.linalg.inv(XTX)\n",
    "    w = XTX_inv.dot(X.T).dot(y)\n",
    "    \n",
    "    return w[0], w[1:]"
   ]
  },
  {
   "cell_type": "markdown",
   "id": "c29912d9-127b-4d30-bfb0-6b7ac8682636",
   "metadata": {},
   "source": [
    "### Baseline Solution"
   ]
  },
  {
   "cell_type": "code",
   "execution_count": 15,
   "id": "7614466a-3ab4-4717-998d-fdf5e677c592",
   "metadata": {},
   "outputs": [],
   "source": [
    "base = ['engine_displacement', 'horsepower', 'vehicle_weight', 'model_year']\n",
    "def prepare_X(df):\n",
    "    df_num = df[base]\n",
    "    df_num = df_num.fillna(0)\n",
    "    X = df_num.values\n",
    "    return X"
   ]
  },
  {
   "cell_type": "code",
   "execution_count": 16,
   "id": "f0fbb7f4-e98e-4d6d-a447-750ecf9d16f2",
   "metadata": {},
   "outputs": [],
   "source": [
    "#training with df_train_0\n",
    "X_train_0 = prepare_X(df_train_0)\n",
    "w_0, w = train_linear_regression(X_train_0, y_train)"
   ]
  },
  {
   "cell_type": "code",
   "execution_count": 17,
   "id": "91702d51-0828-4c58-8994-eab4bdd1421e",
   "metadata": {},
   "outputs": [],
   "source": [
    "#prediction if the missing values replaced by 0\n",
    "y_pred_0 = w_0 + X_train_0.dot(w)"
   ]
  },
  {
   "cell_type": "code",
   "execution_count": 18,
   "id": "55f31513-0c5c-4dc2-b7b9-dfcd266eeaab",
   "metadata": {},
   "outputs": [
    {
     "data": {
      "image/png": "[encoded data removed]",
      "text/plain": [
       "<Figure size 600x400 with 1 Axes>"
      ]
     },
     "metadata": {},
     "output_type": "display_data"
    }
   ],
   "source": [
    "#comparing the prediction graph to the actual value\n",
    "plt.figure(figsize=(6, 4))\n",
    "\n",
    "sns.histplot(y_train, label='target', color='#FF0000', alpha=0.6, bins=40)\n",
    "sns.histplot(y_pred_0, label='prediction', color='#aaaaaa', alpha=0.8, bins=40)\n",
    "\n",
    "plt.legend()\n",
    "\n",
    "plt.ylabel('Frequency')\n",
    "plt.xlabel('Log(Price + 1)')\n",
    "plt.title('Predictions_0 vs actual distribution')\n",
    "\n",
    "plt.show()"
   ]
  },
  {
   "cell_type": "code",
   "execution_count": 19,
   "id": "42cfd8df-c8db-4c7b-8fee-fbba750bd250",
   "metadata": {},
   "outputs": [
    {
     "data": {
      "image/png": "[encoded data removed]",
      "text/plain": [
       "<Figure size 600x400 with 1 Axes>"
      ]
     },
     "metadata": {},
     "output_type": "display_data"
    }
   ],
   "source": [
    "#training with df_train_mean\n",
    "X_train_mean = prepare_X(df_train_mean)\n",
    "w_0, w = train_linear_regression(X_train_mean, y_train)\n",
    "\n",
    "#prediction if the missing values replaced by mean\n",
    "y_pred_mean = w_0 + X_train_mean.dot(w)\n",
    "\n",
    "#comparing the prediction graph that missing values replaced by mean to the actual value\n",
    "plt.figure(figsize=(6, 4))\n",
    "\n",
    "sns.histplot(y_train, label='target', color='#FF0000', alpha=0.6, bins=40)\n",
    "sns.histplot(y_pred_mean, label='prediction', color='#74b9e6', alpha=0.6, bins=40)\n",
    "\n",
    "plt.legend()\n",
    "\n",
    "plt.ylabel('Frequency')\n",
    "plt.xlabel('Log(Price + 1)')\n",
    "plt.title('Predictions_mean vs actual distribution')\n",
    "\n",
    "plt.show()"
   ]
  },
  {
   "cell_type": "code",
   "execution_count": 20,
   "id": "f614a602-9921-4f5f-9fad-00632e421458",
   "metadata": {},
   "outputs": [],
   "source": [
    "#defining Root Mean Square Error\n",
    "def rmse(y, y_pred):\n",
    "    error = y_pred - y\n",
    "    mse = (error ** 2).mean()\n",
    "    return np.sqrt(mse)\n"
   ]
  },
  {
   "cell_type": "code",
   "execution_count": 21,
   "id": "9529f917-f699-47d2-99f0-ba323d3f7d70",
   "metadata": {},
   "outputs": [
    {
     "data": {
      "text/plain": [
       "np.float64(0.04)"
      ]
     },
     "execution_count": 21,
     "metadata": {},
     "output_type": "execute_result"
    }
   ],
   "source": [
    "# Calculating Root Mean Square Error (RMSE) missing values replaced by 0 and rounded to 2 decimal\n",
    "rmse_0 = round(rmse(y_train, y_pred_0), 2)\n",
    "rmse_0"
   ]
  },
  {
   "cell_type": "code",
   "execution_count": 22,
   "id": "0934ee16-90b8-4821-b223-10830d3c575a",
   "metadata": {},
   "outputs": [
    {
     "data": {
      "text/plain": [
       "np.float64(0.04)"
      ]
     },
     "execution_count": 22,
     "metadata": {},
     "output_type": "execute_result"
    }
   ],
   "source": [
    "# Calculating Root Mean Square Error (RMSE) missing values replaced by mean and rounded to 2 decimal\n",
    "rmse_mean = round(rmse(y_train, y_pred_mean), 2)\n",
    "rmse_mean"
   ]
  },
  {
   "cell_type": "markdown",
   "id": "ce44eac4-7163-4c04-933b-0db4122b67b1",
   "metadata": {},
   "source": [
    "**Answer of Question 3 : Both are equally good**"
   ]
  },
  {
   "cell_type": "markdown",
   "id": "2dc7d03f-b4d6-41fd-8f37-3dda7f4a1553",
   "metadata": {},
   "source": [
    "### Question 4\n",
    "\n",
    "   * Now let's train a regularized linear regression.\n",
    "   * For this question, fill the NAs with 0.\n",
    "   * Try different values of r from this list: [0, 0.01, 0.1, 1, 5, 10, 100].\n",
    "   * Use RMSE to evaluate the model on the validation dataset.\n",
    "   * Round the RMSE scores to 2 decimal digits.\n",
    "   * Which r gives the best RMSE?\n",
    "\n",
    "If multiple options give the same best RMSE, select the smallest r."
   ]
  },
  {
   "cell_type": "code",
   "execution_count": 23,
   "id": "481486a2-2a00-41e6-b8fb-8de4148186bc",
   "metadata": {},
   "outputs": [],
   "source": [
    "#defining regularized linear regression\n",
    "def train_linear_regression_reg(X, y, r=0.0):\n",
    "    ones = np.ones(X.shape[0])\n",
    "    X = np.column_stack([ones, X])\n",
    "\n",
    "    XTX = X.T.dot(X)\n",
    "    reg = r * np.eye(XTX.shape[0])\n",
    "    XTX = XTX + reg\n",
    "\n",
    "    XTX_inv = np.linalg.inv(XTX)\n",
    "    w = XTX_inv.dot(X.T).dot(y)\n",
    "    \n",
    "    return w[0], w[1:]\n"
   ]
  },
  {
   "cell_type": "code",
   "execution_count": 24,
   "id": "6765d17d-fb0a-4a83-af4f-29b914631f37",
   "metadata": {},
   "outputs": [
    {
     "name": "stdout",
     "output_type": "stream",
     "text": [
      "    0, 3.66, 0.00, 0.00\n",
      " 0.01, 3.17, 0.00, 0.00\n",
      "  0.1, 1.43, 0.00, 0.00\n",
      "    1, 0.22, 0.00, 0.00\n",
      "    5, 0.05, 0.00, 0.00\n",
      "   10, 0.02, 0.00, 0.00\n",
      "  100, 0.00, 0.00, 0.00\n"
     ]
    }
   ],
   "source": [
    "#train by filling the NAs with 0\n",
    "X_train_0 = prepare_X(df_train_0)\n",
    "\n",
    "#try different r values:  [0, 0.01, 0.1, 1, 5, 10, 100]\n",
    "for r in  [0, 0.01, 0.1, 1, 5, 10, 100]:\n",
    "    w_0, w = train_linear_regression_reg(X_train_0, y_train, r=r)\n",
    "    print('%5s, %.2f, %.2f, %.2f' % (r, w_0, w[1], w[3]))\n"
   ]
  },
  {
   "cell_type": "code",
   "execution_count": 25,
   "id": "23280002-2309-44cd-946d-c13a57a9fbf8",
   "metadata": {},
   "outputs": [
    {
     "name": "stdout",
     "output_type": "stream",
     "text": [
      "train 0.0390863253926525\n",
      "val 0.03997925782165814\n"
     ]
    }
   ],
   "source": [
    "#train regularized linear regression for NAs replaced by 0 AND r=0\n",
    "w_0, w = train_linear_regression_reg(X_train_0, y_train, r=0)\n",
    "\n",
    "y_pred_0 = w_0 + X_train_0.dot(w)\n",
    "print('train', rmse(y_train, y_pred_0))\n",
    "\n",
    "X_val = prepare_X(df_val)\n",
    "y_pred = w_0 + X_val.dot(w)\n",
    "print('val', rmse(y_val, y_pred))\n"
   ]
  },
  {
   "cell_type": "code",
   "execution_count": 26,
   "id": "92b048e3-7aae-409b-b56b-c6820c9efe84",
   "metadata": {},
   "outputs": [
    {
     "name": "stdout",
     "output_type": "stream",
     "text": [
      "     0 0.03997925782165814\n",
      "  0.01 0.03997787201756819\n",
      "   0.1 0.04050873984540411\n",
      "     1 0.04135385150830496\n",
      "     5 0.041506118232746234\n",
      "    10 0.041526801237517695\n",
      "   100 0.041545756560812074\n"
     ]
    }
   ],
   "source": [
    "#train by filling the NAs with 0\n",
    "X_train_0 = prepare_X(df_train_0)\n",
    "X_val = prepare_X(df_val)\n",
    "\n",
    "#comparing all regularized linear regression with various r:\n",
    "for r in [0, 0.01, 0.1, 1, 5, 10, 100]:\n",
    "    w_0, w = train_linear_regression_reg(X_train_0, y_train, r=r)\n",
    "    y_pred = w_0 + X_val.dot(w)\n",
    "    print('%6s' %r, rmse(y_val, y_pred))\n",
    "\n"
   ]
  },
  {
   "cell_type": "markdown",
   "id": "a78db25b-9dbf-4ce9-99c2-b2700ef006b7",
   "metadata": {},
   "source": [
    "**Answer of Q4: 1. Since 1, 5, 10, 100 give the same result, AND according to the hint to choose the smallest number if multiple options give the same best RMSE.**"
   ]
  },
  {
   "cell_type": "markdown",
   "id": "c6d2c61b-2529-441b-97fe-5cfa1518342b",
   "metadata": {},
   "source": [
    "### Question 5\n",
    "\n",
    "   * We used seed 42 for splitting the data. Let's find out how selecting the seed influences our score.\n",
    "   * Try different seed values: [0, 1, 2, 3, 4, 5, 6, 7, 8, 9].\n",
    "   * For each seed, do the train/validation/test split with 60%/20%/20% distribution.\n",
    "   * Fill the missing values with 0 and train a model without regularization.\n",
    "   * For each seed, evaluate the model on the validation dataset and collect the RMSE scores.\n",
    "   * What's the standard deviation of all the scores? To compute the standard deviation, use np.std.\n",
    "   * Round the result to 3 decimal digits (round(std, 3))\n",
    "\n",
    "What's the value of std?"
   ]
  },
  {
   "cell_type": "code",
   "execution_count": 27,
   "id": "e1a80a77-2eeb-4973-bc59-528b22752d5b",
   "metadata": {},
   "outputs": [
    {
     "name": "stdout",
     "output_type": "stream",
     "text": [
      "RMSE LR standard deviation: 0.002\n"
     ]
    }
   ],
   "source": [
    "#Try different seed values\n",
    "#Creating seed array \n",
    "seed_array = [0, 1, 2, 3, 4, 5, 6, 7, 8, 9]\n",
    "rmse_results = []\n",
    "\n",
    "for i in seed_array:\n",
    "    #Set the random seed\n",
    "    np.random.seed(i)\n",
    "    \n",
    "    #Defining partitions sizes: train/validation/test split with 60%/20%/20% distribution\n",
    "    n = len(df)\n",
    "\n",
    "    n_val = int(0.2 * n)\n",
    "    n_test = int(0.2 * n)\n",
    "    n_train = n - (n_val + n_test)\n",
    "\n",
    "    #Shuffle indices \n",
    "    idx = np.arange(n)\n",
    "    np.random.shuffle(idx)\n",
    "\n",
    "    df_shuffled = df.iloc[idx]\n",
    "\n",
    "    #Creating shuffled dataset with defined sizes\n",
    "    df_train_temp = df_shuffled.iloc[:n_train].copy()\n",
    "    df_val_temp = df_shuffled.iloc[n_train:n_train+n_val].copy()\n",
    "    df_test_temp = df_shuffled.iloc[n_train+n_val:].copy()\n",
    "\n",
    "    #Log normalization of target variable from all partitions \n",
    "    y_train_temp = np.log1p(df_train_temp.fuel_efficiency_mpg.values)\n",
    "    y_val_temp = np.log1p(df_val_temp.fuel_efficiency_mpg.values)\n",
    "    y_test_temp = np.log1p(df_test_temp.fuel_efficiency_mpg.values)\n",
    "    \n",
    "    #delete original coloumn to avoid mistake\n",
    "    del df_train_temp['fuel_efficiency_mpg']\n",
    "    del df_val_temp['fuel_efficiency_mpg']\n",
    "    del df_test_temp['fuel_efficiency_mpg']\n",
    "    \n",
    "    #Fill NAs of training and validation partitions with 0 \n",
    "    X_train_temp = df_train_temp.fillna(0)\n",
    "    X_val_temp = df_val_temp.fillna(0)\n",
    "\n",
    "    #Train linear regression model \n",
    "    w_0_temp, w_temp = train_linear_regression(X_train_temp, y_train)\n",
    "\n",
    "    #obtain predictions \n",
    "    y_pred_temp = w_0_temp + X_val_temp.dot(w_temp)\n",
    "\n",
    "    #RMSE\n",
    "    rmse_temp = round(rmse(y_val_temp, y_pred_temp),5)\n",
    "    \n",
    "    #Adding RMSE to the results array \n",
    "    rmse_results.append(rmse_temp)\n",
    "\n",
    "np_array_rmse = np.array(rmse_results)\n",
    "\n",
    "std_rmse_results = round(np.std(np_array_rmse), 3)\n",
    "\n",
    "print(f'RMSE LR standard deviation: {std_rmse_results}')\n"
   ]
  },
  {
   "cell_type": "markdown",
   "id": "1a4a22fd-aa87-41f2-8473-4ede45f8a8f7",
   "metadata": {},
   "source": [
    "**Answer: 0.001 since it is the closest to 0.002**"
   ]
  },
  {
   "cell_type": "markdown",
   "id": "948e2953-03be-4dbb-8c98-caacce3cce77",
   "metadata": {},
   "source": [
    "# Question 6\n",
    "\n",
    "   * Split the dataset like previously, use seed 9.\n",
    "   * Combine train and validation datasets.\n",
    "   * Fill the missing values with 0 and train a model with r=0.001.\n",
    "   * What's the RMSE on the test dataset?\n"
   ]
  },
  {
   "cell_type": "code",
   "execution_count": 41,
   "id": "632f4f28-c88c-43b4-b533-87678b32956f",
   "metadata": {},
   "outputs": [
    {
     "name": "stdout",
     "output_type": "stream",
     "text": [
      "RMSE LR test dataset: 0.039\n"
     ]
    }
   ],
   "source": [
    "#Set the random seed\n",
    "np.random.seed(9)\n",
    "    \n",
    "#Defining partitions sizes: train/validation/test split with 60%/20%/20% distribution\n",
    "n = len(df)\n",
    "\n",
    "n_val = int(0.2 * n)\n",
    "n_test = int(0.2 * n)\n",
    "n_train = n - (n_val + n_test)\n",
    "\n",
    "#Shuffle indices \n",
    "idx = np.arange(n)\n",
    "np.random.shuffle(idx)\n",
    "\n",
    "df_shuffled = df.iloc[idx]\n",
    "\n",
    "#Creating shuffled dataset with defined sizes\n",
    "df_train_org = df_shuffled.iloc[:n_train].copy()\n",
    "df_val_org = df_shuffled.iloc[n_train:n_train+n_val].copy()\n",
    "df_test_org = df_shuffled.iloc[n_train+n_val:].copy()\n",
    "\n",
    "#Log normalization of target variable from all partitions \n",
    "y_train_org = np.log1p(df_train_org.fuel_efficiency_mpg.values)\n",
    "y_val_org = np.log1p(df_val_org.fuel_efficiency_mpg.values)\n",
    "y_test_org = np.log1p(df_test_org.fuel_efficiency_mpg.values)\n",
    "    \n",
    "#delete original coloumn to avoid mistake\n",
    "del df_train_org['fuel_efficiency_mpg']\n",
    "del df_val_org['fuel_efficiency_mpg']\n",
    "del df_test_org['fuel_efficiency_mpg']\n",
    "\n",
    "#Combining train and validation dataset\n",
    "df_train_val = pd.concat([df_train_org,df_val_org])\n",
    "df_train_val = df_train_val.reset_index(drop=True)\n",
    "\n",
    "#Fill NAs of training and validation, and test partitions with 0 \n",
    "X_train_val = df_train_val.fillna(0)\n",
    "X_test_org = df_test_org.fillna(0)\n",
    "\n",
    "# Concatenate training and validation target values \n",
    "y_train_val = np.concatenate([y_train_org, y_val_org])\n",
    "\n",
    "#Train linear regression model \n",
    "w_0_train_val, w_train_val = train_linear_regression_reg(X_train_val, y_train_val, r=0.001)\n",
    "\n",
    "#obtain predictions \n",
    "y_pred_train_val = w_0_train_val + X_test_org.dot(w_train_val)\n",
    "\n",
    "#RMSE\n",
    "rmse_test = round(rmse(y_test_org, y_pred_train_val),3)\n",
    "\n",
    "print(f'RMSE LR test dataset: {rmse_test}')"
   ]
  },
  {
   "cell_type": "markdown",
   "id": "a063d7f8-6104-48a7-9735-fb5707f2056e",
   "metadata": {},
   "source": [
    "**Answer: the RSME test dataset is 0.039**"
   ]
  },
  {
   "cell_type": "code",
   "execution_count": null,
   "id": "47482a01-3d4a-474d-af41-37629aded6e2",
   "metadata": {},
   "outputs": [],
   "source": []
  }
 ],
 "metadata": {
  "kernelspec": {
   "display_name": "Python 3 (ipykernel)",
   "language": "python",
   "name": "python3"
  },
  "language_info": {
   "codemirror_mode": {
    "name": "ipython",
    "version": 3
   },
   "file_extension": ".py",
   "mimetype": "text/x-python",
   "name": "python",
   "nbconvert_exporter": "python",
   "pygments_lexer": "ipython3",
   "version": "3.13.5"
  }
 },
 "nbformat": 4,
 "nbformat_minor": 5
}
